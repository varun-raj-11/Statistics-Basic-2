{
 "cells": [
  {
   "cell_type": "markdown",
   "id": "aacaedc3",
   "metadata": {},
   "source": [
    "# Q1. What are the three measures of central tendency?"
   ]
  },
  {
   "cell_type": "code",
   "execution_count": 1,
   "id": "8b39eb27",
   "metadata": {},
   "outputs": [
    {
     "data": {
      "text/plain": [
       "'\\nThe three measures of central tendency are:\\nMean (Average): The mean is calculated by summing up all the values in a dataset and dividing by the number of values\\nMedian: The median is the middle value of a dataset when it is ordered. If there is an even number of observations, the median is the average of the two middle values.\\nMode: The mode is the value that occurs most frequently in a dataset. A dataset may have one mode (unimodal), more than one mode (multimodal), or no mode at all if all values occur with the same frequency.\\n'"
      ]
     },
     "execution_count": 1,
     "metadata": {},
     "output_type": "execute_result"
    }
   ],
   "source": [
    "'''\n",
    "The three measures of central tendency are:\n",
    "Mean (Average): The mean is calculated by summing up all the values in a dataset and dividing by the number of values\n",
    "Median: The median is the middle value of a dataset when it is ordered. If there is an even number of observations, the median is the average of the two middle values.\n",
    "Mode: The mode is the value that occurs most frequently in a dataset. A dataset may have one mode (unimodal), more than one mode (multimodal), or no mode at all if all values occur with the same frequency.\n",
    "'''"
   ]
  },
  {
   "cell_type": "markdown",
   "id": "95c917d0",
   "metadata": {},
   "source": [
    "# Q2. What is the difference between the mean, median, and mode? How are they used to measure the central tendency of a dataset?"
   ]
  },
  {
   "cell_type": "code",
   "execution_count": 2,
   "id": "bbd504e2",
   "metadata": {},
   "outputs": [
    {
     "data": {
      "text/plain": [
       "'The mean, median, and mode are measures of central tendency, each providing a different way to summarize and describe the central or typical value of a dataset.\\n\\nMean (Average):\\n\\nDefinition: The mean is the sum of all values in a dataset divided by the number of values. It is the arithmetic average.\\nFormula: \\n \\nSensitivity: The mean is sensitive to extreme values (outliers) because it takes into account the magnitude of each value.\\n\\n\\nMedian:\\n\\nDefinition: The median is the middle value of a dataset when it is ordered. If there is an even number of observations, the median is the average of the two middle values.\\nCalculation: Arrange the data in ascending order and find the middle value.\\nSensitivity: The median is less affected by extreme values compared to the mean, making it a robust measure of central tendency.\\n\\nMode:\\n\\nDefinition: The mode is the value that occurs most frequently in a dataset.\\nCalculation: Identify the value(s) with the highest frequency.\\nUnimodal vs. Multimodal: A dataset can be unimodal (one mode), multimodal (more than one mode), or have no mode if all values occur with the same frequency.\\nSensitivity: Like the median, the mode is not influenced by extreme values, but it may not exist in some datasets, and a dataset can have more than one mode.\\n\\n\\nHow They Are Used:\\n\\nChoosing the Measure: The choice between mean, median, and mode depends on the characteristics of the data and the nature of the distribution. If the data is skewed or has outliers, the median may be a better measure of central tendency.\\n\\nSkewed Distributions: For positively skewed distributions (long right tails), the median may be a better representation of the central tendency. For negatively skewed distributions (long left tails), the mean may be pulled more in the direction of the skewness.\\n\\nNominal Data: The mode is often used with nominal data (categories) where calculating a mean or median is not meaningful.'"
      ]
     },
     "execution_count": 2,
     "metadata": {},
     "output_type": "execute_result"
    }
   ],
   "source": [
    "'''The mean, median, and mode are measures of central tendency, each providing a different way to summarize and describe the central or typical value of a dataset.\n",
    "\n",
    "Mean (Average):\n",
    "\n",
    "Definition: The mean is the sum of all values in a dataset divided by the number of values. It is the arithmetic average.\n",
    "Formula: \n",
    " \n",
    "Sensitivity: The mean is sensitive to extreme values (outliers) because it takes into account the magnitude of each value.\n",
    "\n",
    "\n",
    "Median:\n",
    "\n",
    "Definition: The median is the middle value of a dataset when it is ordered. If there is an even number of observations, the median is the average of the two middle values.\n",
    "Calculation: Arrange the data in ascending order and find the middle value.\n",
    "Sensitivity: The median is less affected by extreme values compared to the mean, making it a robust measure of central tendency.\n",
    "\n",
    "Mode:\n",
    "\n",
    "Definition: The mode is the value that occurs most frequently in a dataset.\n",
    "Calculation: Identify the value(s) with the highest frequency.\n",
    "Unimodal vs. Multimodal: A dataset can be unimodal (one mode), multimodal (more than one mode), or have no mode if all values occur with the same frequency.\n",
    "Sensitivity: Like the median, the mode is not influenced by extreme values, but it may not exist in some datasets, and a dataset can have more than one mode.\n",
    "\n",
    "\n",
    "How They Are Used:\n",
    "\n",
    "Choosing the Measure: The choice between mean, median, and mode depends on the characteristics of the data and the nature of the distribution. If the data is skewed or has outliers, the median may be a better measure of central tendency.\n",
    "\n",
    "Skewed Distributions: For positively skewed distributions (long right tails), the median may be a better representation of the central tendency. For negatively skewed distributions (long left tails), the mean may be pulled more in the direction of the skewness.\n",
    "\n",
    "Nominal Data: The mode is often used with nominal data (categories) where calculating a mean or median is not meaningful.'''"
   ]
  },
  {
   "cell_type": "markdown",
   "id": "5a3cf95e",
   "metadata": {},
   "source": [
    "# Q3. Measure the three measures of central tendency for the given height data: [178,177,176,177,178.2,178,175,179,180,175,178.9,176.2,177,172.5,178,176.5]"
   ]
  },
  {
   "cell_type": "code",
   "execution_count": 3,
   "id": "d37f2cb7",
   "metadata": {},
   "outputs": [],
   "source": [
    "Heights=[178,177,176,177,178.2,178,175,179,180,175,178.9,176.2,177,172.5,178,176.5]"
   ]
  },
  {
   "cell_type": "code",
   "execution_count": 15,
   "id": "9dd96179",
   "metadata": {},
   "outputs": [
    {
     "data": {
      "text/plain": [
       "177.01875"
      ]
     },
     "execution_count": 15,
     "metadata": {},
     "output_type": "execute_result"
    }
   ],
   "source": [
    "import numpy as np\n",
    "import pandas as pd\n",
    "import statistics as st\n",
    "Mean=st.mean(Heights)\n",
    "Mean"
   ]
  },
  {
   "cell_type": "code",
   "execution_count": 21,
   "id": "44f0d7e1",
   "metadata": {},
   "outputs": [
    {
     "data": {
      "text/plain": [
       "177.0"
      ]
     },
     "execution_count": 21,
     "metadata": {},
     "output_type": "execute_result"
    }
   ],
   "source": [
    "Median=st.median(Heights)\n",
    "Median"
   ]
  },
  {
   "cell_type": "code",
   "execution_count": 22,
   "id": "a166bca8",
   "metadata": {},
   "outputs": [
    {
     "data": {
      "text/plain": [
       "178"
      ]
     },
     "execution_count": 22,
     "metadata": {},
     "output_type": "execute_result"
    }
   ],
   "source": [
    "Mode=st.mode(Heights)\n",
    "Mode"
   ]
  },
  {
   "cell_type": "markdown",
   "id": "3a33f94a",
   "metadata": {},
   "source": [
    "# Q4. Find the standard deviation for the given data: [178,177,176,177,178.2,178,175,179,180,175,178.9,176.2,177,172.5,178,176.5]"
   ]
  },
  {
   "cell_type": "code",
   "execution_count": 29,
   "id": "983f82d2",
   "metadata": {},
   "outputs": [
    {
     "data": {
      "text/plain": [
       "1.7885814036548633"
      ]
     },
     "execution_count": 29,
     "metadata": {},
     "output_type": "execute_result"
    }
   ],
   "source": [
    "data= [178,177,176,177,178.2,178,175,179,180,175,178.9,176.2,177,172.5,178,176.5]\n",
    "std_dev=np.std(data)\n",
    "std_dev"
   ]
  },
  {
   "cell_type": "markdown",
   "id": "2f00f678",
   "metadata": {},
   "source": [
    "# Q5. How are measures of dispersion such as range, variance, and standard deviation used to describe the spread of a dataset? Provide an example."
   ]
  },
  {
   "cell_type": "code",
   "execution_count": 30,
   "id": "a8169f66",
   "metadata": {},
   "outputs": [
    {
     "data": {
      "text/plain": [
       "\"Measures of dispersion, such as range, variance, and standard deviation, are used to quantify the spread or variability of a dataset. They provide information about how spread out the values are from the central tendency measures (mean, median, mode). Here's how each measure is used and an example:\\n\\nRange:\\n\\nDefinition: The range is the difference between the maximum and minimum values in a dataset.\\nUse: It gives a simple and quick indication of the spread of the data.\\nExample: Consider two datasets:\\nDataset A: [10, 15, 20, 25, 30] (Range = 30 - 10 = 20)\\nDataset B: [5, 10, 15, 20, 25] (Range = 25 - 5 = 20)\\nInterpretation: Both datasets have the same range, but the distribution of values differs.\\n\\nVariance:\\n\\nDefinition: Variance measures the average squared deviation of each data point from the mean.\\nUse: It provides a more precise measure of dispersion, considering all values in the dataset.\\nExample: Consider three datasets:\\nDataset X: [10, 15, 20, 25, 30] (Variance = 25)\\nDataset Y: [5, 10, 15, 20, 25] (Variance = 25)\\nDataset Z: [15, 15, 15, 15, 15] (Variance = 0)\\nInterpretation: Datasets X and Y have the same variance, indicating similar spread, while dataset Z has no variability.\\n\\nStandard Deviation:\\n\\nDefinition: Standard deviation is the square root of the variance. It provides a measure of dispersion in the same units as the data.\\nUse: It is widely used due to its interpretability and is more sensitive to outliers than the range.\\nExample: Using the same datasets as above:\\nDataset X: [10, 15, 20, 25, 30] (Standard Deviation ≈ 5)\\nDataset Y: [5, 10, 15, 20, 25] (Standard Deviation ≈ 5)\\nDataset Z: [15, 15, 15, 15, 15] (Standard Deviation = 0)\\nInterpretation: Standard deviation provides a more nuanced view, showing that datasets X and Y have the same spread, while dataset Z has no variability.\""
      ]
     },
     "execution_count": 30,
     "metadata": {},
     "output_type": "execute_result"
    }
   ],
   "source": [
    "'''Measures of dispersion, such as range, variance, and standard deviation, are used to quantify the spread or variability of a dataset. They provide information about how spread out the values are from the central tendency measures (mean, median, mode). Here's how each measure is used and an example:\n",
    "\n",
    "Range:\n",
    "\n",
    "Definition: The range is the difference between the maximum and minimum values in a dataset.\n",
    "Use: It gives a simple and quick indication of the spread of the data.\n",
    "Example: Consider two datasets:\n",
    "Dataset A: [10, 15, 20, 25, 30] (Range = 30 - 10 = 20)\n",
    "Dataset B: [5, 10, 15, 20, 25] (Range = 25 - 5 = 20)\n",
    "Interpretation: Both datasets have the same range, but the distribution of values differs.\n",
    "\n",
    "Variance:\n",
    "\n",
    "Definition: Variance measures the average squared deviation of each data point from the mean.\n",
    "Use: It provides a more precise measure of dispersion, considering all values in the dataset.\n",
    "Example: Consider three datasets:\n",
    "Dataset X: [10, 15, 20, 25, 30] (Variance = 25)\n",
    "Dataset Y: [5, 10, 15, 20, 25] (Variance = 25)\n",
    "Dataset Z: [15, 15, 15, 15, 15] (Variance = 0)\n",
    "Interpretation: Datasets X and Y have the same variance, indicating similar spread, while dataset Z has no variability.\n",
    "\n",
    "Standard Deviation:\n",
    "\n",
    "Definition: Standard deviation is the square root of the variance. It provides a measure of dispersion in the same units as the data.\n",
    "Use: It is widely used due to its interpretability and is more sensitive to outliers than the range.\n",
    "Example: Using the same datasets as above:\n",
    "Dataset X: [10, 15, 20, 25, 30] (Standard Deviation ≈ 5)\n",
    "Dataset Y: [5, 10, 15, 20, 25] (Standard Deviation ≈ 5)\n",
    "Dataset Z: [15, 15, 15, 15, 15] (Standard Deviation = 0)\n",
    "Interpretation: Standard deviation provides a more nuanced view, showing that datasets X and Y have the same spread, while dataset Z has no variability.'''"
   ]
  },
  {
   "cell_type": "markdown",
   "id": "cf26f9b4",
   "metadata": {},
   "source": [
    "# Q6. What is a Venn diagram?"
   ]
  },
  {
   "cell_type": "code",
   "execution_count": 31,
   "id": "390dac33",
   "metadata": {},
   "outputs": [
    {
     "data": {
      "text/plain": [
       "'\\nA Venn diagram is a visual representation that uses overlapping circles or other shapes to illustrate the logical relationships between two or more sets of items. Each set is represented by a circle, and the overlap between circles represents the elements that are common to both sets. The primary purpose of a Venn diagram is to show the relationships and similarities or differences between different sets of data.\\n\\nKey components of a Venn diagram include:\\n\\nSets: Each circle in the diagram represents a set of items or elements. The elements belonging to a specific set are enclosed within the corresponding circle.\\n\\nOverlap: The overlapping region(s) between circles indicate the elements that are common to the sets involved. The size of the overlap represents the degree of intersection between the sets.\\n\\nUniverse: The entire space within which the sets exist is sometimes referred to as the \"universal set\" and is represented by the outer boundary of the diagram.\\n'"
      ]
     },
     "execution_count": 31,
     "metadata": {},
     "output_type": "execute_result"
    }
   ],
   "source": [
    "'''\n",
    "A Venn diagram is a visual representation that uses overlapping circles or other shapes to illustrate the logical relationships between two or more sets of items. Each set is represented by a circle, and the overlap between circles represents the elements that are common to both sets. The primary purpose of a Venn diagram is to show the relationships and similarities or differences between different sets of data.\n",
    "\n",
    "Key components of a Venn diagram include:\n",
    "\n",
    "Sets: Each circle in the diagram represents a set of items or elements. The elements belonging to a specific set are enclosed within the corresponding circle.\n",
    "\n",
    "Overlap: The overlapping region(s) between circles indicate the elements that are common to the sets involved. The size of the overlap represents the degree of intersection between the sets.\n",
    "\n",
    "Universe: The entire space within which the sets exist is sometimes referred to as the \"universal set\" and is represented by the outer boundary of the diagram.\n",
    "'''"
   ]
  },
  {
   "cell_type": "markdown",
   "id": "df505681",
   "metadata": {},
   "source": [
    "# Q7. For the two given sets A = (2,3,4,5,6,7) & B = (0,2,6,8,10). Find:\n",
    "\n",
    "(i)     A ∩ B\n",
    "(ii)\tA ⋃ B\n",
    "        "
   ]
  },
  {
   "cell_type": "code",
   "execution_count": 32,
   "id": "2e31ad4d",
   "metadata": {},
   "outputs": [
    {
     "data": {
      "text/plain": [
       "'A∩B={2,6}\\n\\nA∪B={0,2,3,4,5,6,7,8,10}'"
      ]
     },
     "execution_count": 32,
     "metadata": {},
     "output_type": "execute_result"
    }
   ],
   "source": [
    "'''A∩B={2,6}\n",
    "\n",
    "A∪B={0,2,3,4,5,6,7,8,10}'''"
   ]
  },
  {
   "cell_type": "markdown",
   "id": "c202f081",
   "metadata": {},
   "source": [
    "# Q8. What do you understand about skewness in data?"
   ]
  },
  {
   "cell_type": "code",
   "execution_count": 33,
   "id": "47d0b6c9",
   "metadata": {},
   "outputs": [
    {
     "data": {
      "text/plain": [
       "'Skewness is a statistical measure that describes the asymmetry of a probability distribution or the extent and direction of skew (departure from horizontal symmetry) in a dataset. In simpler terms, skewness indicates whether the data is concentrated more on one side of the mean than the other.\\n\\nThere are three main types of skewness:\\n\\nNegative Skewness (Left Skewness):\\n\\nIn a negatively skewed distribution, the left tail is longer or fatter than the right tail.\\nThe majority of the data points are concentrated to the right of the mean.\\nThe mean is less than the median.\\nA common example of negatively skewed data is income distribution, where a few individuals have extremely high incomes.\\nPositive Skewness (Right Skewness):\\n\\nIn a positively skewed distribution, the right tail is longer or fatter than the left tail.\\nThe majority of the data points are concentrated to the left of the mean.\\nThe mean is greater than the median.\\nA common example of positively skewed data is the distribution of house prices, where most houses are priced lower, but a few are very expensive.\\nZero Skewness:\\n\\nA distribution is considered perfectly symmetrical or normally distributed if it has zero skewness.\\nIn such cases, the mean, median, and mode are all equal and located at the center of the distribution.'"
      ]
     },
     "execution_count": 33,
     "metadata": {},
     "output_type": "execute_result"
    }
   ],
   "source": [
    "'''Skewness is a statistical measure that describes the asymmetry of a probability distribution or the extent and direction of skew (departure from horizontal symmetry) in a dataset. In simpler terms, skewness indicates whether the data is concentrated more on one side of the mean than the other.\n",
    "\n",
    "There are three main types of skewness:\n",
    "\n",
    "Negative Skewness (Left Skewness):\n",
    "\n",
    "In a negatively skewed distribution, the left tail is longer or fatter than the right tail.\n",
    "The majority of the data points are concentrated to the right of the mean.\n",
    "The mean is less than the median.\n",
    "A common example of negatively skewed data is income distribution, where a few individuals have extremely high incomes.\n",
    "Positive Skewness (Right Skewness):\n",
    "\n",
    "In a positively skewed distribution, the right tail is longer or fatter than the left tail.\n",
    "The majority of the data points are concentrated to the left of the mean.\n",
    "The mean is greater than the median.\n",
    "A common example of positively skewed data is the distribution of house prices, where most houses are priced lower, but a few are very expensive.\n",
    "Zero Skewness:\n",
    "\n",
    "A distribution is considered perfectly symmetrical or normally distributed if it has zero skewness.\n",
    "In such cases, the mean, median, and mode are all equal and located at the center of the distribution.'''"
   ]
  },
  {
   "cell_type": "markdown",
   "id": "422825bc",
   "metadata": {},
   "source": [
    "# Q9. If a data is right skewed then what will be the position of median with respect to mean?"
   ]
  },
  {
   "cell_type": "code",
   "execution_count": 34,
   "id": "ce297749",
   "metadata": {},
   "outputs": [
    {
     "data": {
      "text/plain": [
       "'In a right-skewed distribution, also known as positively skewed distribution, the tail on the right side (the larger values) is longer or fatter than the left tail. This indicates that there are some unusually high values that are pulling the mean in the direction of the tail. Consequently, in a right-skewed distribution:\\n\\nMean > Median:\\nThe mean is greater than the median.\\nThe presence of the higher values on the right side pulls the mean towards the tail.\\nThis relationship between the mean and median is a characteristic feature of skewed distributions. The median is less sensitive to extreme values compared to the mean. Because the median is the middle value when the data is ordered, it is less influenced by outliers or values in the tails of the distribution'"
      ]
     },
     "execution_count": 34,
     "metadata": {},
     "output_type": "execute_result"
    }
   ],
   "source": [
    "'''In a right-skewed distribution, also known as positively skewed distribution, the tail on the right side (the larger values) is longer or fatter than the left tail. This indicates that there are some unusually high values that are pulling the mean in the direction of the tail. Consequently, in a right-skewed distribution:\n",
    "\n",
    "Mean > Median:\n",
    "The mean is greater than the median.\n",
    "The presence of the higher values on the right side pulls the mean towards the tail.\n",
    "This relationship between the mean and median is a characteristic feature of skewed distributions. The median is less sensitive to extreme values compared to the mean. Because the median is the middle value when the data is ordered, it is less influenced by outliers or values in the tails of the distribution'''"
   ]
  },
  {
   "cell_type": "markdown",
   "id": "4c2c81bc",
   "metadata": {},
   "source": [
    "# Q10. Explain the difference between covariance and correlation. How are these measures used in statistical analysis?\n",
    "\n"
   ]
  },
  {
   "cell_type": "code",
   "execution_count": null,
   "id": "a3f8e647",
   "metadata": {},
   "outputs": [],
   "source": [
    "# '''Covariance:\n",
    "\n",
    "Covariance is used to understand the direction of the relationship between two variables.\n",
    "It is sensitive to changes in scale, making it less suitable for comparing the strengths of relationships.\n",
    "Correlation:\n",
    "\n",
    "Correlation is widely used to assess the strength and direction of the linear relationship between two variables.\n",
    "It is a standardized measure, allowing for comparisons between different pairs of variables.\n",
    "Correlation is more commonly used in statistical analysis when the goal is to understand the strength and direction of the relationship while controlling for differences in scale.'''"
   ]
  },
  {
   "cell_type": "markdown",
   "id": "92703b99",
   "metadata": {},
   "source": [
    "# Q11. What is the formula for calculating the sample mean? Provide an example calculation for a dataset"
   ]
  },
  {
   "cell_type": "code",
   "execution_count": 36,
   "id": "5ace2eac",
   "metadata": {},
   "outputs": [
    {
     "data": {
      "text/plain": [
       "'The formula for calculating the sample mean is as follows:\\n\\n| | |\\n| --- | --- |\\n| Formula | ˉX = ∑i=1n Xi |\\n| Description | ˉX is the sample mean, Xi is each individual value in the sample, ∑ denotes the summation (adding up all the values), and n is the number of observations in the sample. |'"
      ]
     },
     "execution_count": 36,
     "metadata": {},
     "output_type": "execute_result"
    }
   ],
   "source": [
    "'''The formula for calculating the sample mean is as follows:\n",
    "\n",
    "| | |\n",
    "| --- | --- |\n",
    "| Formula | ˉX = ∑i=1n Xi |\n",
    "| Description | ˉX is the sample mean, Xi is each individual value in the sample, ∑ denotes the summation (adding up all the values), and n is the number of observations in the sample. |'''"
   ]
  },
  {
   "cell_type": "code",
   "execution_count": 37,
   "id": "52fdc6cc",
   "metadata": {},
   "outputs": [
    {
     "data": {
      "text/plain": [
       "'Example calculation for a dataset:\\n\\nData\\t10\\t15\\t12\\t18\\t20\\t14\\t22\\t17\\nSum\\t128\\nNumber of observations (n)\\t8\\nSample mean (ˉX)\\t16\\nTherefore, the sample mean for the dataset is 16.'"
      ]
     },
     "execution_count": 37,
     "metadata": {},
     "output_type": "execute_result"
    }
   ],
   "source": [
    "'''Example calculation for a dataset:\n",
    "\n",
    "Data\t10\t15\t12\t18\t20\t14\t22\t17\n",
    "Sum\t128\n",
    "Number of observations (n)\t8\n",
    "Sample mean (ˉX)\t16\n",
    "Therefore, the sample mean for the dataset is 16.'''"
   ]
  },
  {
   "cell_type": "markdown",
   "id": "60c879a9",
   "metadata": {},
   "source": [
    "# Q12. For a normal distribution data what is the relationship between its measure of central tendency?"
   ]
  },
  {
   "cell_type": "code",
   "execution_count": 38,
   "id": "7e07f246",
   "metadata": {},
   "outputs": [
    {
     "data": {
      "text/plain": [
       "\"In a normal distribution, the measures of central tendency - the mean, median, and mode - are all equal. This is because a normal distribution is symmetrical, meaning that the left and right sides of the distribution are mirror images of each other. As a result, the point where the distribution is most concentrated is also the point where the mean, median, and mode coincide.\\n\\nHere's a more detailed explanation:\\n\\nMean: The mean is the average of all the values in the dataset. In a normal distribution, the mean is equal to the sum of all the values divided by the number of values.\\n\\nMedian: The median is the middle value in the dataset when the values are ordered from least to greatest. In a normal distribution, the median is the same as the mean because the distribution is symmetrical.\\n\\nMode: The mode is the most frequent value in the dataset. In a normal distribution, the mode is also equal to the mean and median because the distribution is symmetrical and there is a single peak at the center.\""
      ]
     },
     "execution_count": 38,
     "metadata": {},
     "output_type": "execute_result"
    }
   ],
   "source": [
    "'''In a normal distribution, the measures of central tendency - the mean, median, and mode - are all equal. This is because a normal distribution is symmetrical, meaning that the left and right sides of the distribution are mirror images of each other. As a result, the point where the distribution is most concentrated is also the point where the mean, median, and mode coincide.\n",
    "\n",
    "Here's a more detailed explanation:\n",
    "\n",
    "Mean: The mean is the average of all the values in the dataset. In a normal distribution, the mean is equal to the sum of all the values divided by the number of values.\n",
    "\n",
    "Median: The median is the middle value in the dataset when the values are ordered from least to greatest. In a normal distribution, the median is the same as the mean because the distribution is symmetrical.\n",
    "\n",
    "Mode: The mode is the most frequent value in the dataset. In a normal distribution, the mode is also equal to the mean and median because the distribution is symmetrical and there is a single peak at the center.'''"
   ]
  },
  {
   "cell_type": "markdown",
   "id": "95a8d432",
   "metadata": {},
   "source": [
    "# Q13. How is covariance different from correlation?"
   ]
  },
  {
   "cell_type": "code",
   "execution_count": 39,
   "id": "8c6d3b6d",
   "metadata": {},
   "outputs": [
    {
     "data": {
      "text/plain": [
       "'Covariance and correlation are both measures of the linear relationship between two variables. However, they differ in the way they are calculated and in what they measure.\\n\\nCovariance is the average of the product of the deviations from the mean of two variables. It is calculated as follows:\\n\\ncov(X, Y) = (1/n) * Σ[(Xi - μX)(Yi - μY)]\\nwhere:\\n\\nX and Y are the two variables\\nμX and μY are the means of X and Y, respectively\\nn is the number of observations\\nCovariance is measured in units of the product of the original variables. For example, if X is measured in meters and Y is measured in kilograms, then covariance is measured in meter-kilograms.\\n\\nCorrelation is a measure of the strength and direction of the linear relationship between two variables. It is calculated as follows:\\n\\ncorr(X, Y) = cov(X, Y) / (σX * σY)\\nwhere:\\n\\nσX and σY are the standard deviations of X and Y, respectively\\nCorrelation is a dimensionless quantity that ranges from -1 to 1. A correlation of -1 indicates a perfect negative linear relationship, meaning that as one variable increases, the other variable decreases. A correlation of 0 indicates no linear relationship between the two variables. A correlation of 1 indicates a perfect positive linear relationship, meaning that as one variable increases, the other variable also increases.\\n\\nIn general, covariance is a measure of the degree to which two variables vary together, while correlation is a measure of the strength and direction of the linear relationship between two variables.\\n\\nHere is an example to illustrate the difference between covariance and correlation. Consider the following data:\\n\\nX\\tY\\n10\\t12\\n15\\t14\\n12\\t13\\n18\\t19\\n20\\t21\\n14\\t15\\n22\\t23\\n17\\t18\\nThe covariance between X and Y is 15.71, and the correlation between X and Y is 0.98. This means that there is a strong positive linear relationship between X and Y.'"
      ]
     },
     "execution_count": 39,
     "metadata": {},
     "output_type": "execute_result"
    }
   ],
   "source": [
    "'''Covariance and correlation are both measures of the linear relationship between two variables. However, they differ in the way they are calculated and in what they measure.\n",
    "\n",
    "Covariance is the average of the product of the deviations from the mean of two variables. It is calculated as follows:\n",
    "\n",
    "cov(X, Y) = (1/n) * Σ[(Xi - μX)(Yi - μY)]\n",
    "where:\n",
    "\n",
    "X and Y are the two variables\n",
    "μX and μY are the means of X and Y, respectively\n",
    "n is the number of observations\n",
    "Covariance is measured in units of the product of the original variables. For example, if X is measured in meters and Y is measured in kilograms, then covariance is measured in meter-kilograms.\n",
    "\n",
    "Correlation is a measure of the strength and direction of the linear relationship between two variables. It is calculated as follows:\n",
    "\n",
    "corr(X, Y) = cov(X, Y) / (σX * σY)\n",
    "where:\n",
    "\n",
    "σX and σY are the standard deviations of X and Y, respectively\n",
    "Correlation is a dimensionless quantity that ranges from -1 to 1. A correlation of -1 indicates a perfect negative linear relationship, meaning that as one variable increases, the other variable decreases. A correlation of 0 indicates no linear relationship between the two variables. A correlation of 1 indicates a perfect positive linear relationship, meaning that as one variable increases, the other variable also increases.\n",
    "\n",
    "In general, covariance is a measure of the degree to which two variables vary together, while correlation is a measure of the strength and direction of the linear relationship between two variables.\n",
    "\n",
    "Here is an example to illustrate the difference between covariance and correlation. Consider the following data:\n",
    "\n",
    "X\tY\n",
    "10\t12\n",
    "15\t14\n",
    "12\t13\n",
    "18\t19\n",
    "20\t21\n",
    "14\t15\n",
    "22\t23\n",
    "17\t18\n",
    "The covariance between X and Y is 15.71, and the correlation between X and Y is 0.98. This means that there is a strong positive linear relationship between X and Y.'''"
   ]
  },
  {
   "cell_type": "markdown",
   "id": "4b9beecd",
   "metadata": {},
   "source": [
    "# Q14. How do outliers affect measures of central tendency and dispersion? Provide an example."
   ]
  },
  {
   "cell_type": "code",
   "execution_count": null,
   "id": "6666d6fc",
   "metadata": {},
   "outputs": [],
   "source": [
    "'''Outliers can have a significant impact on measures of central tendency and dispersion. Measures of central tendency, such as the mean and median, are intended to represent the \"typical\" value in a dataset. However, outliers can pull these measures away from the true center of the data.\n",
    "\n",
    "For example, consider the following dataset:\n",
    "\n",
    "|Data|\n",
    "\n",
    "| 10 |\n",
    "| 15 |\n",
    "| 12 |\n",
    "| 18 |\n",
    "| 20 |\n",
    "| 14 |\n",
    "| 22 |\n",
    "| 17 |\n",
    "| 100|\n",
    "\n",
    "The mean of this dataset is 25.33. However, if we remove the outlier (100), the mean becomes 16.0. This is a significant difference, and it illustrates how outliers can distort measures of central tendency.\n",
    "\n",
    "Measures of dispersion, such as the standard deviation and variance, are intended to measure how spread out the data is. However, outliers can make these measures appear to be larger than they really are.\n",
    "\n",
    "For example, the standard deviation of the dataset above is 26.64. However, if we remove the outlier (100), the standard deviation becomes 3.77. This is a much smaller number, and it illustrates how outliers can inflate measures of dispersion.\n",
    "\n",
    "In general, it is important to be aware of the presence of outliers in your data and to take steps to mitigate their impact on your analysis. One way to do this is to use robust measures of central tendency and dispersion, such as the median and the median absolute deviation (MAD). These measures are less sensitive to outliers than the mean and standard deviation.\n",
    "\n",
    "Here is an example of how to calculate the median and MAD for the dataset above:\n",
    "\n",
    "median = np.median(data)\n",
    "mad = np.median(np.abs(data - median))\n",
    "\n",
    "print(\"Median:\", median)\n",
    "print(\"MAD:\", mad)\n",
    "This code outputs the following:\n",
    "\n",
    "Median: 17.0\n",
    "MAD: 3.5\n",
    "As you can see, the median and MAD are much less affected by the outlier than the mean and standard deviation.'''"
   ]
  }
 ],
 "metadata": {
  "kernelspec": {
   "display_name": "Python 3 (ipykernel)",
   "language": "python",
   "name": "python3"
  },
  "language_info": {
   "codemirror_mode": {
    "name": "ipython",
    "version": 3
   },
   "file_extension": ".py",
   "mimetype": "text/x-python",
   "name": "python",
   "nbconvert_exporter": "python",
   "pygments_lexer": "ipython3",
   "version": "3.9.13"
  }
 },
 "nbformat": 4,
 "nbformat_minor": 5
}
